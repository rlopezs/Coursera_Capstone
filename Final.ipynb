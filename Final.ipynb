{
 "cells": [
  {
   "cell_type": "markdown",
   "metadata": {
    "collapsed": true
   },
   "source": [
    "*Introduction/Business Problem*\n",
    "\n",
    "\n",
    "As Moskva has a very large and complex city railways, understanding what venues in the neighborhood are around the stations will be helpful to understand the usage of the system, unveiling which stations are more used for work and what for leisure.\n",
    "\n",
    "*Data*\n",
    "\n",
    "I will scrape data from wikipedia to gather the location of the stations, and for the location of the venues I will use Foursquare.\n"
   ]
  },
  {
   "cell_type": "code",
   "execution_count": null,
   "metadata": {},
   "outputs": [],
   "source": []
  }
 ],
 "metadata": {
  "kernelspec": {
   "display_name": "Python 3.6",
   "language": "python",
   "name": "python3"
  },
  "language_info": {
   "codemirror_mode": {
    "name": "ipython",
    "version": 3
   },
   "file_extension": ".py",
   "mimetype": "text/x-python",
   "name": "python",
   "nbconvert_exporter": "python",
   "pygments_lexer": "ipython3",
   "version": "3.6.9"
  }
 },
 "nbformat": 4,
 "nbformat_minor": 1
}
